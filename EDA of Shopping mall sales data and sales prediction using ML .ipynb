{
 "cells": [
  {
   "cell_type": "markdown",
   "id": "ef85fc7f",
   "metadata": {},
   "source": [
    "#     EDA OF SHOPPING MALLS OF TURKEY WITH SALES PREDICTION MODEL"
   ]
  },
  {
   "cell_type": "markdown",
   "id": "ee7cee34",
   "metadata": {},
   "source": [
    "Importing Necessary Labraries"
   ]
  },
  {
   "cell_type": "code",
   "execution_count": 3,
   "id": "3eddd6ff",
   "metadata": {},
   "outputs": [],
   "source": [
    "import pandas as pd\n",
    "import matplotlib.pyplot as plt\n",
    "import seaborn as sns"
   ]
  },
  {
   "cell_type": "code",
   "execution_count": 4,
   "id": "ce0553f2",
   "metadata": {},
   "outputs": [
    {
     "data": {
      "text/html": [
       "<div>\n",
       "<style scoped>\n",
       "    .dataframe tbody tr th:only-of-type {\n",
       "        vertical-align: middle;\n",
       "    }\n",
       "\n",
       "    .dataframe tbody tr th {\n",
       "        vertical-align: top;\n",
       "    }\n",
       "\n",
       "    .dataframe thead th {\n",
       "        text-align: right;\n",
       "    }\n",
       "</style>\n",
       "<table border=\"1\" class=\"dataframe\">\n",
       "  <thead>\n",
       "    <tr style=\"text-align: right;\">\n",
       "      <th></th>\n",
       "      <th>invoice_no</th>\n",
       "      <th>customer_id</th>\n",
       "      <th>gender</th>\n",
       "      <th>age</th>\n",
       "      <th>category</th>\n",
       "      <th>quantity</th>\n",
       "      <th>price</th>\n",
       "      <th>payment_method</th>\n",
       "      <th>invoice_date</th>\n",
       "      <th>shopping_mall</th>\n",
       "    </tr>\n",
       "  </thead>\n",
       "  <tbody>\n",
       "    <tr>\n",
       "      <th>0</th>\n",
       "      <td>I138884</td>\n",
       "      <td>C241288</td>\n",
       "      <td>Female</td>\n",
       "      <td>28</td>\n",
       "      <td>Clothing</td>\n",
       "      <td>5</td>\n",
       "      <td>1500.40</td>\n",
       "      <td>Credit Card</td>\n",
       "      <td>5/8/2022</td>\n",
       "      <td>Kanyon</td>\n",
       "    </tr>\n",
       "    <tr>\n",
       "      <th>1</th>\n",
       "      <td>I317333</td>\n",
       "      <td>C111565</td>\n",
       "      <td>Male</td>\n",
       "      <td>21</td>\n",
       "      <td>Shoes</td>\n",
       "      <td>3</td>\n",
       "      <td>1800.51</td>\n",
       "      <td>Debit Card</td>\n",
       "      <td>12/12/2021</td>\n",
       "      <td>Forum Istanbul</td>\n",
       "    </tr>\n",
       "    <tr>\n",
       "      <th>2</th>\n",
       "      <td>I127801</td>\n",
       "      <td>C266599</td>\n",
       "      <td>Male</td>\n",
       "      <td>20</td>\n",
       "      <td>Clothing</td>\n",
       "      <td>1</td>\n",
       "      <td>300.08</td>\n",
       "      <td>Cash</td>\n",
       "      <td>9/11/2021</td>\n",
       "      <td>Metrocity</td>\n",
       "    </tr>\n",
       "    <tr>\n",
       "      <th>3</th>\n",
       "      <td>I173702</td>\n",
       "      <td>C988172</td>\n",
       "      <td>Female</td>\n",
       "      <td>66</td>\n",
       "      <td>Shoes</td>\n",
       "      <td>5</td>\n",
       "      <td>3000.85</td>\n",
       "      <td>Credit Card</td>\n",
       "      <td>16/05/2021</td>\n",
       "      <td>Metropol AVM</td>\n",
       "    </tr>\n",
       "    <tr>\n",
       "      <th>4</th>\n",
       "      <td>I337046</td>\n",
       "      <td>C189076</td>\n",
       "      <td>Female</td>\n",
       "      <td>53</td>\n",
       "      <td>Books</td>\n",
       "      <td>4</td>\n",
       "      <td>60.60</td>\n",
       "      <td>Cash</td>\n",
       "      <td>24/10/2021</td>\n",
       "      <td>Kanyon</td>\n",
       "    </tr>\n",
       "    <tr>\n",
       "      <th>5</th>\n",
       "      <td>I227836</td>\n",
       "      <td>C657758</td>\n",
       "      <td>Female</td>\n",
       "      <td>28</td>\n",
       "      <td>Clothing</td>\n",
       "      <td>5</td>\n",
       "      <td>1500.40</td>\n",
       "      <td>Credit Card</td>\n",
       "      <td>24/05/2022</td>\n",
       "      <td>Forum Istanbul</td>\n",
       "    </tr>\n",
       "    <tr>\n",
       "      <th>6</th>\n",
       "      <td>I121056</td>\n",
       "      <td>C151197</td>\n",
       "      <td>Female</td>\n",
       "      <td>49</td>\n",
       "      <td>Cosmetics</td>\n",
       "      <td>1</td>\n",
       "      <td>40.66</td>\n",
       "      <td>Cash</td>\n",
       "      <td>13/03/2022</td>\n",
       "      <td>Istinye Park</td>\n",
       "    </tr>\n",
       "    <tr>\n",
       "      <th>7</th>\n",
       "      <td>I293112</td>\n",
       "      <td>C176086</td>\n",
       "      <td>Female</td>\n",
       "      <td>32</td>\n",
       "      <td>Clothing</td>\n",
       "      <td>2</td>\n",
       "      <td>600.16</td>\n",
       "      <td>Credit Card</td>\n",
       "      <td>13/01/2021</td>\n",
       "      <td>Mall of Istanbul</td>\n",
       "    </tr>\n",
       "    <tr>\n",
       "      <th>8</th>\n",
       "      <td>I293455</td>\n",
       "      <td>C159642</td>\n",
       "      <td>Male</td>\n",
       "      <td>69</td>\n",
       "      <td>Clothing</td>\n",
       "      <td>3</td>\n",
       "      <td>900.24</td>\n",
       "      <td>Credit Card</td>\n",
       "      <td>4/11/2021</td>\n",
       "      <td>Metrocity</td>\n",
       "    </tr>\n",
       "    <tr>\n",
       "      <th>9</th>\n",
       "      <td>I326945</td>\n",
       "      <td>C283361</td>\n",
       "      <td>Female</td>\n",
       "      <td>60</td>\n",
       "      <td>Clothing</td>\n",
       "      <td>2</td>\n",
       "      <td>600.16</td>\n",
       "      <td>Credit Card</td>\n",
       "      <td>22/08/2021</td>\n",
       "      <td>Kanyon</td>\n",
       "    </tr>\n",
       "  </tbody>\n",
       "</table>\n",
       "</div>"
      ],
      "text/plain": [
       "  invoice_no customer_id  gender  age   category  quantity    price  \\\n",
       "0    I138884     C241288  Female   28   Clothing         5  1500.40   \n",
       "1    I317333     C111565    Male   21      Shoes         3  1800.51   \n",
       "2    I127801     C266599    Male   20   Clothing         1   300.08   \n",
       "3    I173702     C988172  Female   66      Shoes         5  3000.85   \n",
       "4    I337046     C189076  Female   53      Books         4    60.60   \n",
       "5    I227836     C657758  Female   28   Clothing         5  1500.40   \n",
       "6    I121056     C151197  Female   49  Cosmetics         1    40.66   \n",
       "7    I293112     C176086  Female   32   Clothing         2   600.16   \n",
       "8    I293455     C159642    Male   69   Clothing         3   900.24   \n",
       "9    I326945     C283361  Female   60   Clothing         2   600.16   \n",
       "\n",
       "  payment_method invoice_date     shopping_mall  \n",
       "0    Credit Card     5/8/2022            Kanyon  \n",
       "1     Debit Card   12/12/2021    Forum Istanbul  \n",
       "2           Cash    9/11/2021         Metrocity  \n",
       "3    Credit Card   16/05/2021      Metropol AVM  \n",
       "4           Cash   24/10/2021            Kanyon  \n",
       "5    Credit Card   24/05/2022    Forum Istanbul  \n",
       "6           Cash   13/03/2022      Istinye Park  \n",
       "7    Credit Card   13/01/2021  Mall of Istanbul  \n",
       "8    Credit Card    4/11/2021         Metrocity  \n",
       "9    Credit Card   22/08/2021            Kanyon  "
      ]
     },
     "execution_count": 4,
     "metadata": {},
     "output_type": "execute_result"
    }
   ],
   "source": [
    "df=pd.read_csv(\"customer_shopping_data.csv\")\n",
    "df.head(10)"
   ]
  },
  {
   "cell_type": "markdown",
   "id": "c447bfd7",
   "metadata": {},
   "source": [
    "# Handeling Missing Values"
   ]
  },
  {
   "cell_type": "code",
   "execution_count": 5,
   "id": "f98021c6",
   "metadata": {},
   "outputs": [
    {
     "data": {
      "text/plain": [
       "invoice_no        0\n",
       "customer_id       0\n",
       "gender            0\n",
       "age               0\n",
       "category          0\n",
       "quantity          0\n",
       "price             0\n",
       "payment_method    0\n",
       "invoice_date      0\n",
       "shopping_mall     0\n",
       "dtype: int64"
      ]
     },
     "execution_count": 5,
     "metadata": {},
     "output_type": "execute_result"
    }
   ],
   "source": [
    "df.isna().sum()"
   ]
  },
  {
   "cell_type": "code",
   "execution_count": 6,
   "id": "0deb0513",
   "metadata": {},
   "outputs": [
    {
     "name": "stdout",
     "output_type": "stream",
     "text": [
      "<class 'pandas.core.frame.DataFrame'>\n",
      "RangeIndex: 99457 entries, 0 to 99456\n",
      "Data columns (total 10 columns):\n",
      " #   Column          Non-Null Count  Dtype  \n",
      "---  ------          --------------  -----  \n",
      " 0   invoice_no      99457 non-null  object \n",
      " 1   customer_id     99457 non-null  object \n",
      " 2   gender          99457 non-null  object \n",
      " 3   age             99457 non-null  int64  \n",
      " 4   category        99457 non-null  object \n",
      " 5   quantity        99457 non-null  int64  \n",
      " 6   price           99457 non-null  float64\n",
      " 7   payment_method  99457 non-null  object \n",
      " 8   invoice_date    99457 non-null  object \n",
      " 9   shopping_mall   99457 non-null  object \n",
      "dtypes: float64(1), int64(2), object(7)\n",
      "memory usage: 7.6+ MB\n"
     ]
    }
   ],
   "source": [
    "df.info()"
   ]
  },
  {
   "cell_type": "markdown",
   "id": "74dc15cb",
   "metadata": {},
   "source": [
    "# 1)summary staticstics"
   ]
  },
  {
   "cell_type": "code",
   "execution_count": 7,
   "id": "e3899577",
   "metadata": {},
   "outputs": [
    {
     "data": {
      "text/html": [
       "<div>\n",
       "<style scoped>\n",
       "    .dataframe tbody tr th:only-of-type {\n",
       "        vertical-align: middle;\n",
       "    }\n",
       "\n",
       "    .dataframe tbody tr th {\n",
       "        vertical-align: top;\n",
       "    }\n",
       "\n",
       "    .dataframe thead th {\n",
       "        text-align: right;\n",
       "    }\n",
       "</style>\n",
       "<table border=\"1\" class=\"dataframe\">\n",
       "  <thead>\n",
       "    <tr style=\"text-align: right;\">\n",
       "      <th></th>\n",
       "      <th>age</th>\n",
       "      <th>quantity</th>\n",
       "      <th>price</th>\n",
       "    </tr>\n",
       "  </thead>\n",
       "  <tbody>\n",
       "    <tr>\n",
       "      <th>count</th>\n",
       "      <td>99457.000000</td>\n",
       "      <td>99457.000000</td>\n",
       "      <td>99457.000000</td>\n",
       "    </tr>\n",
       "    <tr>\n",
       "      <th>mean</th>\n",
       "      <td>43.427089</td>\n",
       "      <td>3.003429</td>\n",
       "      <td>689.256321</td>\n",
       "    </tr>\n",
       "    <tr>\n",
       "      <th>std</th>\n",
       "      <td>14.990054</td>\n",
       "      <td>1.413025</td>\n",
       "      <td>941.184567</td>\n",
       "    </tr>\n",
       "    <tr>\n",
       "      <th>min</th>\n",
       "      <td>18.000000</td>\n",
       "      <td>1.000000</td>\n",
       "      <td>5.230000</td>\n",
       "    </tr>\n",
       "    <tr>\n",
       "      <th>25%</th>\n",
       "      <td>30.000000</td>\n",
       "      <td>2.000000</td>\n",
       "      <td>45.450000</td>\n",
       "    </tr>\n",
       "    <tr>\n",
       "      <th>50%</th>\n",
       "      <td>43.000000</td>\n",
       "      <td>3.000000</td>\n",
       "      <td>203.300000</td>\n",
       "    </tr>\n",
       "    <tr>\n",
       "      <th>75%</th>\n",
       "      <td>56.000000</td>\n",
       "      <td>4.000000</td>\n",
       "      <td>1200.320000</td>\n",
       "    </tr>\n",
       "    <tr>\n",
       "      <th>max</th>\n",
       "      <td>69.000000</td>\n",
       "      <td>5.000000</td>\n",
       "      <td>5250.000000</td>\n",
       "    </tr>\n",
       "  </tbody>\n",
       "</table>\n",
       "</div>"
      ],
      "text/plain": [
       "                age      quantity         price\n",
       "count  99457.000000  99457.000000  99457.000000\n",
       "mean      43.427089      3.003429    689.256321\n",
       "std       14.990054      1.413025    941.184567\n",
       "min       18.000000      1.000000      5.230000\n",
       "25%       30.000000      2.000000     45.450000\n",
       "50%       43.000000      3.000000    203.300000\n",
       "75%       56.000000      4.000000   1200.320000\n",
       "max       69.000000      5.000000   5250.000000"
      ]
     },
     "execution_count": 7,
     "metadata": {},
     "output_type": "execute_result"
    }
   ],
   "source": [
    "df.describe()"
   ]
  },
  {
   "cell_type": "markdown",
   "id": "8402b2cf",
   "metadata": {},
   "source": [
    "# 2)categorical summary"
   ]
  },
  {
   "cell_type": "markdown",
   "id": "c5d53e61",
   "metadata": {},
   "source": [
    "#Q1 Products category in the shopping cart"
   ]
  },
  {
   "cell_type": "code",
   "execution_count": 8,
   "id": "f44070fc",
   "metadata": {},
   "outputs": [
    {
     "name": "stdout",
     "output_type": "stream",
     "text": [
      "['Clothing' 'Shoes' 'Books' 'Cosmetics' 'Food & Beverage' 'Toys'\n",
      " 'Technology' 'Souvenir']\n"
     ]
    }
   ],
   "source": [
    "products=df['category'].unique()\n",
    "print(products)"
   ]
  },
  {
   "cell_type": "markdown",
   "id": "0a512951",
   "metadata": {},
   "source": [
    "#Q2 Different payments methods"
   ]
  },
  {
   "cell_type": "code",
   "execution_count": 9,
   "id": "ef06d51b",
   "metadata": {},
   "outputs": [
    {
     "name": "stdout",
     "output_type": "stream",
     "text": [
      "['Credit Card' 'Debit Card' 'Cash']\n"
     ]
    }
   ],
   "source": [
    "pay_meth=df['payment_method'].unique()\n",
    "print(pay_meth)"
   ]
  },
  {
   "cell_type": "markdown",
   "id": "684ec85b",
   "metadata": {},
   "source": [
    "#Q3 Most purchased product"
   ]
  },
  {
   "cell_type": "code",
   "execution_count": 10,
   "id": "af06c6b4",
   "metadata": {},
   "outputs": [
    {
     "name": "stdout",
     "output_type": "stream",
     "text": [
      "Clothing\n"
     ]
    }
   ],
   "source": [
    "most_purch_prod=df['category'].value_counts().idxmax()\n",
    "print(most_purch_prod)"
   ]
  },
  {
   "cell_type": "markdown",
   "id": "6b0d6d7b",
   "metadata": {},
   "source": [
    "#Q4 Less purchased product"
   ]
  },
  {
   "cell_type": "code",
   "execution_count": 11,
   "id": "590f7d9e",
   "metadata": {},
   "outputs": [
    {
     "name": "stdout",
     "output_type": "stream",
     "text": [
      "Books\n"
     ]
    }
   ],
   "source": [
    "less_purch_prod=df['category'].value_counts().idxmin()\n",
    "print(less_purch_prod)"
   ]
  },
  {
   "cell_type": "markdown",
   "id": "b28fdb22",
   "metadata": {},
   "source": [
    "#Q5 Most used payment method for shopping"
   ]
  },
  {
   "cell_type": "code",
   "execution_count": 12,
   "id": "22d517e0",
   "metadata": {},
   "outputs": [
    {
     "name": "stdout",
     "output_type": "stream",
     "text": [
      "Cash\n"
     ]
    }
   ],
   "source": [
    "most_used_pay_meth=df['payment_method'].value_counts().idxmax()\n",
    "print(most_used_pay_meth)"
   ]
  },
  {
   "cell_type": "markdown",
   "id": "b4ffa670",
   "metadata": {},
   "source": [
    "#Q6 Cusomers favorite destination for shopping"
   ]
  },
  {
   "cell_type": "code",
   "execution_count": 13,
   "id": "950fbcec",
   "metadata": {},
   "outputs": [
    {
     "name": "stdout",
     "output_type": "stream",
     "text": [
      "Mall of Istanbul\n"
     ]
    }
   ],
   "source": [
    "fav_shop_dest=df['shopping_mall'].value_counts().idxmax()\n",
    "print(fav_shop_dest)"
   ]
  },
  {
   "cell_type": "markdown",
   "id": "3f839c60",
   "metadata": {},
   "source": [
    "#Q7 what percentage of Male and Female customers did shopping"
   ]
  },
  {
   "cell_type": "code",
   "execution_count": 14,
   "id": "742bb56a",
   "metadata": {},
   "outputs": [
    {
     "name": "stdout",
     "output_type": "stream",
     "text": [
      "Female    59482\n",
      "Male      39975\n",
      "Name: gender, dtype: int64\n"
     ]
    }
   ],
   "source": [
    "total_cust=df['gender'].value_counts()\n",
    "print(total_cust)"
   ]
  },
  {
   "cell_type": "code",
   "execution_count": 15,
   "id": "bdccb40e",
   "metadata": {},
   "outputs": [
    {
     "name": "stdout",
     "output_type": "stream",
     "text": [
      "99457\n"
     ]
    }
   ],
   "source": [
    "total_cust=df['gender'].count()\n",
    "print(total_cust)"
   ]
  },
  {
   "cell_type": "code",
   "execution_count": 16,
   "id": "3688c516",
   "metadata": {},
   "outputs": [
    {
     "name": "stdout",
     "output_type": "stream",
     "text": [
      "59482\n"
     ]
    }
   ],
   "source": [
    "female_cust=df['gender'].value_counts()['Female']\n",
    "print(female_cust)"
   ]
  },
  {
   "cell_type": "code",
   "execution_count": 17,
   "id": "fe237fa0",
   "metadata": {},
   "outputs": [
    {
     "name": "stdout",
     "output_type": "stream",
     "text": [
      "39975\n"
     ]
    }
   ],
   "source": [
    "male_cust=df['gender'].value_counts()['Male']\n",
    "print(male_cust)"
   ]
  },
  {
   "cell_type": "code",
   "execution_count": 18,
   "id": "9d7003c4",
   "metadata": {},
   "outputs": [
    {
     "name": "stdout",
     "output_type": "stream",
     "text": [
      "59.81\n"
     ]
    }
   ],
   "source": [
    "female_per=female_cust/total_cust * 100\n",
    "print(female_per.round(2))"
   ]
  },
  {
   "cell_type": "code",
   "execution_count": 19,
   "id": "cf9327e3",
   "metadata": {},
   "outputs": [
    {
     "name": "stdout",
     "output_type": "stream",
     "text": [
      "40.19\n"
     ]
    }
   ],
   "source": [
    "male_per=male_cust/total_cust * 100\n",
    "print(male_per.round(2))"
   ]
  },
  {
   "cell_type": "markdown",
   "id": "79489c22",
   "metadata": {},
   "source": [
    "#8 Reapeated customers for each shopping mall"
   ]
  },
  {
   "cell_type": "code",
   "execution_count": 20,
   "id": "4e2840dd",
   "metadata": {},
   "outputs": [
    {
     "name": "stdout",
     "output_type": "stream",
     "text": [
      "0        False\n",
      "1        False\n",
      "2        False\n",
      "3        False\n",
      "4        False\n",
      "         ...  \n",
      "99452    False\n",
      "99453    False\n",
      "99454    False\n",
      "99455    False\n",
      "99456    False\n",
      "Length: 99457, dtype: bool\n"
     ]
    }
   ],
   "source": [
    "rep_cust=df.duplicated()\n",
    "print(rep_cust)"
   ]
  },
  {
   "cell_type": "markdown",
   "id": "5e40847a",
   "metadata": {},
   "source": [
    "# Data Vizualization using matplotlib and seaborn"
   ]
  },
  {
   "cell_type": "markdown",
   "id": "2db651ee",
   "metadata": {},
   "source": [
    "Q1 What is the distribution of customers based on gender?"
   ]
  },
  {
   "cell_type": "code",
   "execution_count": 32,
   "id": "de374791",
   "metadata": {},
   "outputs": [
    {
     "data": {
      "image/png": "[encoded data removed]",
      "text/plain": [
       "<Figure size 640x480 with 1 Axes>"
      ]
     },
     "metadata": {},
     "output_type": "display_data"
    }
   ],
   "source": [
    "total_cust=df['gender'].value_counts()\n",
    "colors=['red','green']\n",
    "plt.bar(total_cust.index,total_cust.values,color=colors,label=['Female','Male'])\n",
    "plt.xlabel('Gender')\n",
    "plt.ylabel('Number of customers')\n",
    "plt.title('Distrubution of customers based on gender')\n",
    "plt.legend()\n",
    "plt.show()"
   ]
  },
  {
   "cell_type": "markdown",
   "id": "ff913648",
   "metadata": {},
   "source": [
    "Q2 Which shopping mall has the highest number of customers?\n"
   ]
  },
  {
   "cell_type": "code",
   "execution_count": 22,
   "id": "73f75d56",
   "metadata": {},
   "outputs": [
    {
     "data": {
      "text/plain": [
       "Mall of Istanbul     19943\n",
       "Kanyon               19823\n",
       "Metrocity            15011\n",
       "Metropol AVM         10161\n",
       "Istinye Park          9781\n",
       "Zorlu Center          5075\n",
       "Cevahir AVM           4991\n",
       "Forum Istanbul        4947\n",
       "Viaport Outlet        4914\n",
       "Emaar Square Mall     4811\n",
       "Name: shopping_mall, dtype: int64"
      ]
     },
     "execution_count": 22,
     "metadata": {},
     "output_type": "execute_result"
    }
   ],
   "source": [
    "df_cust_shop=df[\"shopping_mall\"].value_counts()\n",
    "df_cust_shop"
   ]
  },
  {
   "cell_type": "code",
   "execution_count": 23,
   "id": "ec4798d6",
   "metadata": {},
   "outputs": [
    {
     "data": {
      "image/png": "[encoded data removed]",
      "text/plain": [
       "<Figure size 640x480 with 1 Axes>"
      ]
     },
     "metadata": {},
     "output_type": "display_data"
    }
   ],
   "source": [
    "colors = ['blue', 'green', 'red', 'pink', 'magenta', 'yellow', 'black', 'purple', 'orange', 'brown']\n",
    "plt.bar(df_cust_shop.index,df_cust_shop.values,color=colors)\n",
    "plt.xlabel(\"Shopping malls\")\n",
    "plt.ylabel(\"customers\")\n",
    "plt.xticks(rotation=45)\n",
    "plt.title(\"Customer across the Shopping malls\")\n",
    "plt.show()"
   ]
  },
  {
   "cell_type": "markdown",
   "id": "3811fe73",
   "metadata": {},
   "source": [
    "Q3 What is the distribution of payment methods used by customers?"
   ]
  },
  {
   "cell_type": "code",
   "execution_count": 24,
   "id": "3977d39d",
   "metadata": {},
   "outputs": [
    {
     "data": {
      "text/plain": [
       "Cash           44447\n",
       "Credit Card    34931\n",
       "Debit Card     20079\n",
       "Name: payment_method, dtype: int64"
      ]
     },
     "execution_count": 24,
     "metadata": {},
     "output_type": "execute_result"
    }
   ],
   "source": [
    "pay_meth=df['payment_method'].value_counts()\n",
    "pay_meth"
   ]
  },
  {
   "cell_type": "code",
   "execution_count": 25,
   "id": "0ef3d020",
   "metadata": {},
   "outputs": [
    {
     "data": {
      "image/png": "[encoded data removed]",
      "text/plain": [
       "<Figure size 640x480 with 1 Axes>"
      ]
     },
     "metadata": {},
     "output_type": "display_data"
    }
   ],
   "source": [
    "plt.pie(pay_meth.values,labels=pay_meth.index,startangle=60,explode=(0,0,0.3),autopct=\"%1.2f%%\")\n",
    "plt.title(\"Distrubutions of Payment Methods\")\n",
    "plt.show()"
   ]
  },
  {
   "cell_type": "markdown",
   "id": "397f093a",
   "metadata": {},
   "source": [
    "Q4 How does the quantity of products purchased vary across different categories?"
   ]
  },
  {
   "cell_type": "code",
   "execution_count": 26,
   "id": "5c1c3d90",
   "metadata": {},
   "outputs": [
    {
     "data": {
      "image/png": "[encoded data removed]",
      "text/plain": [
       "<Figure size 1000x600 with 1 Axes>"
      ]
     },
     "metadata": {},
     "output_type": "display_data"
    }
   ],
   "source": [
    "#group the data based on category \n",
    "prod_quan=df.groupby('category')['quantity'].sum()\n",
    "\n",
    "#sorting in descending to get frequency for y-axis\n",
    "prod_quan=prod_quan.sort_values(ascending=False)\n",
    "\n",
    "#\n",
    "plt.figure(figsize=(10,6))\n",
    "plt.bar(prod_quan.index,prod_quan.values)\n",
    "plt.xlabel('Category')\n",
    "plt.ylabel('Quantity')\n",
    "plt.title('Quantity of Product across Categories')\n",
    "plt.xticks(rotation=45)\n",
    "plt.show()\n"
   ]
  },
  {
   "cell_type": "markdown",
   "id": "f3fad2f7",
   "metadata": {},
   "source": [
    "Q5 How is the customer age distribution?"
   ]
  },
  {
   "cell_type": "code",
   "execution_count": 27,
   "id": "d753ec05",
   "metadata": {},
   "outputs": [
    {
     "data": {
      "image/png": "[encoded data removed]",
      "text/plain": [
       "<Figure size 800x600 with 1 Axes>"
      ]
     },
     "metadata": {},
     "output_type": "display_data"
    }
   ],
   "source": [
    "import seaborn as sns\n",
    "plt.figure(figsize=(8, 6))\n",
    "sns.histplot(data=df, x='age', bins=10, binwidth=3,color='maroon')\n",
    "plt.title('Customer Age Distribution')\n",
    "plt.xlabel('Age')\n",
    "plt.ylabel('Count')\n",
    "plt.show()"
   ]
  },
  {
   "cell_type": "markdown",
   "id": "b2e389c9",
   "metadata": {},
   "source": [
    "Q6 Distribution of sales across the year?"
   ]
  },
  {
   "cell_type": "code",
   "execution_count": 28,
   "id": "85c57586",
   "metadata": {},
   "outputs": [
    {
     "data": {
      "text/html": [
       "<div>\n",
       "<style scoped>\n",
       "    .dataframe tbody tr th:only-of-type {\n",
       "        vertical-align: middle;\n",
       "    }\n",
       "\n",
       "    .dataframe tbody tr th {\n",
       "        vertical-align: top;\n",
       "    }\n",
       "\n",
       "    .dataframe thead th {\n",
       "        text-align: right;\n",
       "    }\n",
       "</style>\n",
       "<table border=\"1\" class=\"dataframe\">\n",
       "  <thead>\n",
       "    <tr style=\"text-align: right;\">\n",
       "      <th></th>\n",
       "      <th>invoice_no</th>\n",
       "      <th>customer_id</th>\n",
       "      <th>gender</th>\n",
       "      <th>age</th>\n",
       "      <th>category</th>\n",
       "      <th>quantity</th>\n",
       "      <th>price</th>\n",
       "      <th>payment_method</th>\n",
       "      <th>invoice_date</th>\n",
       "      <th>shopping_mall</th>\n",
       "    </tr>\n",
       "  </thead>\n",
       "  <tbody>\n",
       "    <tr>\n",
       "      <th>0</th>\n",
       "      <td>I138884</td>\n",
       "      <td>C241288</td>\n",
       "      <td>Female</td>\n",
       "      <td>28</td>\n",
       "      <td>Clothing</td>\n",
       "      <td>5</td>\n",
       "      <td>1500.40</td>\n",
       "      <td>Credit Card</td>\n",
       "      <td>2022-08-05</td>\n",
       "      <td>Kanyon</td>\n",
       "    </tr>\n",
       "    <tr>\n",
       "      <th>1</th>\n",
       "      <td>I317333</td>\n",
       "      <td>C111565</td>\n",
       "      <td>Male</td>\n",
       "      <td>21</td>\n",
       "      <td>Shoes</td>\n",
       "      <td>3</td>\n",
       "      <td>1800.51</td>\n",
       "      <td>Debit Card</td>\n",
       "      <td>2021-12-12</td>\n",
       "      <td>Forum Istanbul</td>\n",
       "    </tr>\n",
       "    <tr>\n",
       "      <th>2</th>\n",
       "      <td>I127801</td>\n",
       "      <td>C266599</td>\n",
       "      <td>Male</td>\n",
       "      <td>20</td>\n",
       "      <td>Clothing</td>\n",
       "      <td>1</td>\n",
       "      <td>300.08</td>\n",
       "      <td>Cash</td>\n",
       "      <td>2021-11-09</td>\n",
       "      <td>Metrocity</td>\n",
       "    </tr>\n",
       "    <tr>\n",
       "      <th>3</th>\n",
       "      <td>I173702</td>\n",
       "      <td>C988172</td>\n",
       "      <td>Female</td>\n",
       "      <td>66</td>\n",
       "      <td>Shoes</td>\n",
       "      <td>5</td>\n",
       "      <td>3000.85</td>\n",
       "      <td>Credit Card</td>\n",
       "      <td>2021-05-16</td>\n",
       "      <td>Metropol AVM</td>\n",
       "    </tr>\n",
       "    <tr>\n",
       "      <th>4</th>\n",
       "      <td>I337046</td>\n",
       "      <td>C189076</td>\n",
       "      <td>Female</td>\n",
       "      <td>53</td>\n",
       "      <td>Books</td>\n",
       "      <td>4</td>\n",
       "      <td>60.60</td>\n",
       "      <td>Cash</td>\n",
       "      <td>2021-10-24</td>\n",
       "      <td>Kanyon</td>\n",
       "    </tr>\n",
       "    <tr>\n",
       "      <th>5</th>\n",
       "      <td>I227836</td>\n",
       "      <td>C657758</td>\n",
       "      <td>Female</td>\n",
       "      <td>28</td>\n",
       "      <td>Clothing</td>\n",
       "      <td>5</td>\n",
       "      <td>1500.40</td>\n",
       "      <td>Credit Card</td>\n",
       "      <td>2022-05-24</td>\n",
       "      <td>Forum Istanbul</td>\n",
       "    </tr>\n",
       "    <tr>\n",
       "      <th>6</th>\n",
       "      <td>I121056</td>\n",
       "      <td>C151197</td>\n",
       "      <td>Female</td>\n",
       "      <td>49</td>\n",
       "      <td>Cosmetics</td>\n",
       "      <td>1</td>\n",
       "      <td>40.66</td>\n",
       "      <td>Cash</td>\n",
       "      <td>2022-03-13</td>\n",
       "      <td>Istinye Park</td>\n",
       "    </tr>\n",
       "    <tr>\n",
       "      <th>7</th>\n",
       "      <td>I293112</td>\n",
       "      <td>C176086</td>\n",
       "      <td>Female</td>\n",
       "      <td>32</td>\n",
       "      <td>Clothing</td>\n",
       "      <td>2</td>\n",
       "      <td>600.16</td>\n",
       "      <td>Credit Card</td>\n",
       "      <td>2021-01-13</td>\n",
       "      <td>Mall of Istanbul</td>\n",
       "    </tr>\n",
       "    <tr>\n",
       "      <th>8</th>\n",
       "      <td>I293455</td>\n",
       "      <td>C159642</td>\n",
       "      <td>Male</td>\n",
       "      <td>69</td>\n",
       "      <td>Clothing</td>\n",
       "      <td>3</td>\n",
       "      <td>900.24</td>\n",
       "      <td>Credit Card</td>\n",
       "      <td>2021-11-04</td>\n",
       "      <td>Metrocity</td>\n",
       "    </tr>\n",
       "    <tr>\n",
       "      <th>9</th>\n",
       "      <td>I326945</td>\n",
       "      <td>C283361</td>\n",
       "      <td>Female</td>\n",
       "      <td>60</td>\n",
       "      <td>Clothing</td>\n",
       "      <td>2</td>\n",
       "      <td>600.16</td>\n",
       "      <td>Credit Card</td>\n",
       "      <td>2021-08-22</td>\n",
       "      <td>Kanyon</td>\n",
       "    </tr>\n",
       "  </tbody>\n",
       "</table>\n",
       "</div>"
      ],
      "text/plain": [
       "  invoice_no customer_id  gender  age   category  quantity    price  \\\n",
       "0    I138884     C241288  Female   28   Clothing         5  1500.40   \n",
       "1    I317333     C111565    Male   21      Shoes         3  1800.51   \n",
       "2    I127801     C266599    Male   20   Clothing         1   300.08   \n",
       "3    I173702     C988172  Female   66      Shoes         5  3000.85   \n",
       "4    I337046     C189076  Female   53      Books         4    60.60   \n",
       "5    I227836     C657758  Female   28   Clothing         5  1500.40   \n",
       "6    I121056     C151197  Female   49  Cosmetics         1    40.66   \n",
       "7    I293112     C176086  Female   32   Clothing         2   600.16   \n",
       "8    I293455     C159642    Male   69   Clothing         3   900.24   \n",
       "9    I326945     C283361  Female   60   Clothing         2   600.16   \n",
       "\n",
       "  payment_method invoice_date     shopping_mall  \n",
       "0    Credit Card   2022-08-05            Kanyon  \n",
       "1     Debit Card   2021-12-12    Forum Istanbul  \n",
       "2           Cash   2021-11-09         Metrocity  \n",
       "3    Credit Card   2021-05-16      Metropol AVM  \n",
       "4           Cash   2021-10-24            Kanyon  \n",
       "5    Credit Card   2022-05-24    Forum Istanbul  \n",
       "6           Cash   2022-03-13      Istinye Park  \n",
       "7    Credit Card   2021-01-13  Mall of Istanbul  \n",
       "8    Credit Card   2021-11-04         Metrocity  \n",
       "9    Credit Card   2021-08-22            Kanyon  "
      ]
     },
     "execution_count": 28,
     "metadata": {},
     "output_type": "execute_result"
    }
   ],
   "source": [
    "df['invoice_date']=pd.to_datetime(df['invoice_date'],dayfirst=True)\n",
    "df.head(10)"
   ]
  },
  {
   "cell_type": "code",
   "execution_count": 29,
   "id": "28bda52d",
   "metadata": {},
   "outputs": [
    {
     "data": {
      "text/html": [
       "<div>\n",
       "<style scoped>\n",
       "    .dataframe tbody tr th:only-of-type {\n",
       "        vertical-align: middle;\n",
       "    }\n",
       "\n",
       "    .dataframe tbody tr th {\n",
       "        vertical-align: top;\n",
       "    }\n",
       "\n",
       "    .dataframe thead th {\n",
       "        text-align: right;\n",
       "    }\n",
       "</style>\n",
       "<table border=\"1\" class=\"dataframe\">\n",
       "  <thead>\n",
       "    <tr style=\"text-align: right;\">\n",
       "      <th></th>\n",
       "      <th>invoice_no</th>\n",
       "      <th>customer_id</th>\n",
       "      <th>gender</th>\n",
       "      <th>age</th>\n",
       "      <th>category</th>\n",
       "      <th>quantity</th>\n",
       "      <th>price</th>\n",
       "      <th>payment_method</th>\n",
       "      <th>invoice_date</th>\n",
       "      <th>shopping_mall</th>\n",
       "      <th>month</th>\n",
       "    </tr>\n",
       "  </thead>\n",
       "  <tbody>\n",
       "    <tr>\n",
       "      <th>0</th>\n",
       "      <td>I138884</td>\n",
       "      <td>C241288</td>\n",
       "      <td>Female</td>\n",
       "      <td>28</td>\n",
       "      <td>Clothing</td>\n",
       "      <td>5</td>\n",
       "      <td>1500.40</td>\n",
       "      <td>Credit Card</td>\n",
       "      <td>2022-08-05</td>\n",
       "      <td>Kanyon</td>\n",
       "      <td>8</td>\n",
       "    </tr>\n",
       "    <tr>\n",
       "      <th>1</th>\n",
       "      <td>I317333</td>\n",
       "      <td>C111565</td>\n",
       "      <td>Male</td>\n",
       "      <td>21</td>\n",
       "      <td>Shoes</td>\n",
       "      <td>3</td>\n",
       "      <td>1800.51</td>\n",
       "      <td>Debit Card</td>\n",
       "      <td>2021-12-12</td>\n",
       "      <td>Forum Istanbul</td>\n",
       "      <td>12</td>\n",
       "    </tr>\n",
       "    <tr>\n",
       "      <th>2</th>\n",
       "      <td>I127801</td>\n",
       "      <td>C266599</td>\n",
       "      <td>Male</td>\n",
       "      <td>20</td>\n",
       "      <td>Clothing</td>\n",
       "      <td>1</td>\n",
       "      <td>300.08</td>\n",
       "      <td>Cash</td>\n",
       "      <td>2021-11-09</td>\n",
       "      <td>Metrocity</td>\n",
       "      <td>11</td>\n",
       "    </tr>\n",
       "    <tr>\n",
       "      <th>3</th>\n",
       "      <td>I173702</td>\n",
       "      <td>C988172</td>\n",
       "      <td>Female</td>\n",
       "      <td>66</td>\n",
       "      <td>Shoes</td>\n",
       "      <td>5</td>\n",
       "      <td>3000.85</td>\n",
       "      <td>Credit Card</td>\n",
       "      <td>2021-05-16</td>\n",
       "      <td>Metropol AVM</td>\n",
       "      <td>5</td>\n",
       "    </tr>\n",
       "    <tr>\n",
       "      <th>4</th>\n",
       "      <td>I337046</td>\n",
       "      <td>C189076</td>\n",
       "      <td>Female</td>\n",
       "      <td>53</td>\n",
       "      <td>Books</td>\n",
       "      <td>4</td>\n",
       "      <td>60.60</td>\n",
       "      <td>Cash</td>\n",
       "      <td>2021-10-24</td>\n",
       "      <td>Kanyon</td>\n",
       "      <td>10</td>\n",
       "    </tr>\n",
       "  </tbody>\n",
       "</table>\n",
       "</div>"
      ],
      "text/plain": [
       "  invoice_no customer_id  gender  age  category  quantity    price  \\\n",
       "0    I138884     C241288  Female   28  Clothing         5  1500.40   \n",
       "1    I317333     C111565    Male   21     Shoes         3  1800.51   \n",
       "2    I127801     C266599    Male   20  Clothing         1   300.08   \n",
       "3    I173702     C988172  Female   66     Shoes         5  3000.85   \n",
       "4    I337046     C189076  Female   53     Books         4    60.60   \n",
       "\n",
       "  payment_method invoice_date   shopping_mall  month  \n",
       "0    Credit Card   2022-08-05          Kanyon      8  \n",
       "1     Debit Card   2021-12-12  Forum Istanbul     12  \n",
       "2           Cash   2021-11-09       Metrocity     11  \n",
       "3    Credit Card   2021-05-16    Metropol AVM      5  \n",
       "4           Cash   2021-10-24          Kanyon     10  "
      ]
     },
     "execution_count": 29,
     "metadata": {},
     "output_type": "execute_result"
    }
   ],
   "source": [
    "df['month']=df['invoice_date'].dt.month\n",
    "df.head(5)"
   ]
  },
  {
   "cell_type": "code",
   "execution_count": 30,
   "id": "39c733f9",
   "metadata": {},
   "outputs": [
    {
     "data": {
      "text/plain": [
       "month\n",
       "1    7932626.63\n",
       "2    7235297.32\n",
       "3    6007346.21\n",
       "4    5102478.76\n",
       "5    5346926.82\n",
       "Name: price, dtype: float64"
      ]
     },
     "execution_count": 30,
     "metadata": {},
     "output_type": "execute_result"
    }
   ],
   "source": [
    "df_sales=df.groupby('month')['price'].sum()\n",
    "df_sales.head(5)"
   ]
  },
  {
   "cell_type": "code",
   "execution_count": 31,
   "id": "7bad4a5c",
   "metadata": {},
   "outputs": [
    {
     "data": {
      "image/png": "[encoded data removed]",
      "text/plain": [
       "<Figure size 640x480 with 1 Axes>"
      ]
     },
     "metadata": {},
     "output_type": "display_data"
    }
   ],
   "source": [
    "plt.plot(df_sales.index,df_sales.values,marker='o',linestyle='dotted',color='black')\n",
    "plt.title('Total Sales across the year')\n",
    "plt.xlabel('Month')\n",
    "plt.ylabel('Total Sales(in millions)')\n",
    "plt.xticks(range(1, 13))  # Set x-axis ticks from 1 to 12\n",
    "plt.show()"
   ]
  },
  {
   "cell_type": "markdown",
   "id": "cc70729d",
   "metadata": {},
   "source": [
    "# Machine Learning model to predict the sales in each month"
   ]
  },
  {
   "cell_type": "code",
   "execution_count": 50,
   "id": "270411fb",
   "metadata": {},
   "outputs": [],
   "source": [
    "from sklearn.linear_model import LinearRegression\n",
    "import numpy as np\n",
    "from sklearn.preprocessing import PolynomialFeatures"
   ]
  },
  {
   "cell_type": "code",
   "execution_count": 48,
   "id": "3aa7de8f",
   "metadata": {},
   "outputs": [
    {
     "data": {
      "text/plain": [
       "array([[ 1.        , -0.71070266],\n",
       "       [-0.71070266,  1.        ]])"
      ]
     },
     "execution_count": 48,
     "metadata": {},
     "output_type": "execute_result"
    }
   ],
   "source": [
    "month=df_sales.index\n",
    "sales=df_sales.values\n",
    "corr=np.corrcoef(month,sales)\n",
    "corr"
   ]
  },
  {
   "cell_type": "markdown",
   "id": "77a2a8bc",
   "metadata": {},
   "source": [
    "A negative correlation coefficient indicates an inverse relationship, where as the month increases, the sales tend to decrease. Conversely, as the month decreases, the sales tend to increase. The magnitude of the correlation coefficient (-0.7107) suggests a moderate strength of the relationship."
   ]
  },
  {
   "cell_type": "code",
   "execution_count": 49,
   "id": "5969fa8c",
   "metadata": {},
   "outputs": [
    {
     "data": {
      "text/plain": [
       "LinregressResult(slope=-182625.5094055944, intercept=6899679.636969697, rvalue=-0.7107026567112905, pvalue=0.009577638292677378, stderr=57165.366086898255, intercept_stderr=420725.7025963109)"
      ]
     },
     "execution_count": 49,
     "metadata": {},
     "output_type": "execute_result"
    }
   ],
   "source": [
    "from scipy.stats import linregress\n",
    "reg=linregress(month,sales)\n",
    "reg"
   ]
  },
  {
   "cell_type": "code",
   "execution_count": 64,
   "id": "1fa11aa1",
   "metadata": {},
   "outputs": [
    {
     "data": {
      "image/png": "[encoded data removed]",
      "text/plain": [
       "<Figure size 800x400 with 1 Axes>"
      ]
     },
     "metadata": {},
     "output_type": "display_data"
    }
   ],
   "source": [
    "plt.figure(figsize=(8,4))\n",
    "plt.plot(month,sales,'o',linestyle='solid',color='green')\n",
    "plt.xlabel('Month')\n",
    "plt.ylabel('Sales in Millions')\n",
    "plt.xticks([1,2,3,4,5,6,7,8,9,10,11,12])\n",
    "plt.show()"
   ]
  },
  {
   "cell_type": "markdown",
   "id": "9bc73f58",
   "metadata": {},
   "source": [
    " it appears that there is a non-linear pattern with higher sales in the first month due to festivals and the new year, followed by a gradual decrease in sales as the months progress."
   ]
  },
  {
   "cell_type": "markdown",
   "id": "5dbf4e78",
   "metadata": {},
   "source": [
    "Polynomial Regression: Instead of fitting a straight line, polynomial regression can capture non-linear relationships by including higher-order polynomial terms (e.g., quadratic or cubic) in the regression equation. This would allow the model to better fit the increasing and decreasing sales pattern over the months."
   ]
  },
  {
   "cell_type": "markdown",
   "id": "460bddb8",
   "metadata": {},
   "source": [
    "# SALES PREDICTION IN EACH MONTH"
   ]
  },
  {
   "cell_type": "code",
   "execution_count": 89,
   "id": "7812a4f1",
   "metadata": {},
   "outputs": [
    {
     "data": {
      "text/html": [
       "<div>\n",
       "<style scoped>\n",
       "    .dataframe tbody tr th:only-of-type {\n",
       "        vertical-align: middle;\n",
       "    }\n",
       "\n",
       "    .dataframe tbody tr th {\n",
       "        vertical-align: top;\n",
       "    }\n",
       "\n",
       "    .dataframe thead th {\n",
       "        text-align: right;\n",
       "    }\n",
       "</style>\n",
       "<table border=\"1\" class=\"dataframe\">\n",
       "  <thead>\n",
       "    <tr style=\"text-align: right;\">\n",
       "      <th></th>\n",
       "      <th>Month</th>\n",
       "      <th>Original_Sales</th>\n",
       "      <th>Predicted_Sales</th>\n",
       "    </tr>\n",
       "  </thead>\n",
       "  <tbody>\n",
       "    <tr>\n",
       "      <th>0</th>\n",
       "      <td>1</td>\n",
       "      <td>7932626.63</td>\n",
       "      <td>7,579,209.90</td>\n",
       "    </tr>\n",
       "    <tr>\n",
       "      <th>1</th>\n",
       "      <td>2</td>\n",
       "      <td>7235297.32</td>\n",
       "      <td>6,926,317.61</td>\n",
       "    </tr>\n",
       "    <tr>\n",
       "      <th>2</th>\n",
       "      <td>3</td>\n",
       "      <td>6007346.21</td>\n",
       "      <td>6,367,478.67</td>\n",
       "    </tr>\n",
       "    <tr>\n",
       "      <th>3</th>\n",
       "      <td>4</td>\n",
       "      <td>5102478.76</td>\n",
       "      <td>5,902,693.09</td>\n",
       "    </tr>\n",
       "    <tr>\n",
       "      <th>4</th>\n",
       "      <td>5</td>\n",
       "      <td>5346926.82</td>\n",
       "      <td>5,531,960.86</td>\n",
       "    </tr>\n",
       "    <tr>\n",
       "      <th>5</th>\n",
       "      <td>6</td>\n",
       "      <td>5160345.74</td>\n",
       "      <td>5,255,282.00</td>\n",
       "    </tr>\n",
       "    <tr>\n",
       "      <th>6</th>\n",
       "      <td>7</td>\n",
       "      <td>5552023.57</td>\n",
       "      <td>5,072,656.49</td>\n",
       "    </tr>\n",
       "    <tr>\n",
       "      <th>7</th>\n",
       "      <td>8</td>\n",
       "      <td>5270542.03</td>\n",
       "      <td>4,984,084.34</td>\n",
       "    </tr>\n",
       "    <tr>\n",
       "      <th>8</th>\n",
       "      <td>9</td>\n",
       "      <td>5115214.27</td>\n",
       "      <td>4,989,565.54</td>\n",
       "    </tr>\n",
       "    <tr>\n",
       "      <th>9</th>\n",
       "      <td>10</td>\n",
       "      <td>5538258.09</td>\n",
       "      <td>5,089,100.10</td>\n",
       "    </tr>\n",
       "    <tr>\n",
       "      <th>10</th>\n",
       "      <td>11</td>\n",
       "      <td>4995141.11</td>\n",
       "      <td>5,282,688.02</td>\n",
       "    </tr>\n",
       "    <tr>\n",
       "      <th>11</th>\n",
       "      <td>12</td>\n",
       "      <td>5295165.36</td>\n",
       "      <td>5,570,329.30</td>\n",
       "    </tr>\n",
       "  </tbody>\n",
       "</table>\n",
       "</div>"
      ],
      "text/plain": [
       "    Month  Original_Sales Predicted_Sales\n",
       "0       1      7932626.63    7,579,209.90\n",
       "1       2      7235297.32    6,926,317.61\n",
       "2       3      6007346.21    6,367,478.67\n",
       "3       4      5102478.76    5,902,693.09\n",
       "4       5      5346926.82    5,531,960.86\n",
       "5       6      5160345.74    5,255,282.00\n",
       "6       7      5552023.57    5,072,656.49\n",
       "7       8      5270542.03    4,984,084.34\n",
       "8       9      5115214.27    4,989,565.54\n",
       "9      10      5538258.09    5,089,100.10\n",
       "10     11      4995141.11    5,282,688.02\n",
       "11     12      5295165.36    5,570,329.30"
      ]
     },
     "execution_count": 89,
     "metadata": {},
     "output_type": "execute_result"
    }
   ],
   "source": [
    "month=df_sales.index\n",
    "sales=df_sales.values\n",
    "\n",
    "month=np.array(month).reshape(-1,1)\n",
    "\n",
    "\n",
    "#fitting polynomial model\n",
    "poly_features = PolynomialFeatures(degree=2)  \n",
    "month_poly = poly_features.fit_transform(month)\n",
    "\n",
    "model = LinearRegression()\n",
    "model.fit(month_poly, sales)\n",
    "\n",
    "test_month=pd.DataFrame({'months':[1,2,3,4,5,6,7,8,9,10,11,12]})\n",
    "test_month=np.array(test_month).reshape(-1,1)\n",
    "\n",
    "# Generating predictions for test_month\n",
    "test_month_poly = poly_features.transform(test_month)\n",
    "pred_sales = model.predict(test_month_poly)\n",
    "\n",
    "df_result=pd.DataFrame({'Month':df_sales.index,'Original_Sales':df_sales.values,'Predicted_Sales':pred_sales})\n",
    "df_result['Predicted_Sales'] = df_result['Predicted_Sales'].apply('{:,.2f}'.format)\n",
    "df_result"
   ]
  },
  {
   "cell_type": "markdown",
   "id": "125419df",
   "metadata": {},
   "source": [
    "# Conclusion"
   ]
  },
  {
   "cell_type": "markdown",
   "id": "4138e7f9",
   "metadata": {},
   "source": [
    "Relationship between month and sales: The model captures the relationship between the month and sales by considering a polynomial equation. The predicted sales values are influenced by the month, taking into account the non-linear patterns observed in the data.\n",
    "\n",
    "Model accuracy: The predicted sales values are reasonably close to the actual sales values for most of the months. However, there are some variations between the predicted and actual sales, indicating that the model may not capture all the factors influencing sales accurately.\n",
    "\n",
    "Seasonal sales pattern: The model successfully captures the seasonal sales pattern, as evident from the predicted sales values aligning with the general trend of higher sales in the earlier months (January) and gradually decreasing sales in the later months (December).\n",
    "\n",
    "Overall performance: The model seems to provide a reasonable estimation of sales based on the month."
   ]
  }
 ],
 "metadata": {
  "kernelspec": {
   "display_name": "Python 3 (ipykernel)",
   "language": "python",
   "name": "python3"
  },
  "language_info": {
   "codemirror_mode": {
    "name": "ipython",
    "version": 3
   },
   "file_extension": ".py",
   "mimetype": "text/x-python",
   "name": "python",
   "nbconvert_exporter": "python",
   "pygments_lexer": "ipython3",
   "version": "3.10.9"
  }
 },
 "nbformat": 4,
 "nbformat_minor": 5
}
